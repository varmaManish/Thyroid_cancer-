{
  "cells": [
    {
      "cell_type": "code",
      "execution_count": 139,
      "metadata": {
        "id": "52JcdwGQwoHD"
      },
      "outputs": [],
      "source": [
        "import pandas as pd\n",
        "import numpy as np\n",
        "import pandas as pd\n",
        "import numpy as np\n",
        "import seaborn as sns\n",
        "import matplotlib.pyplot as plt"
      ]
    },
    {
      "cell_type": "markdown",
      "source": [
        "**Loaded data and droping unnessary column **"
      ],
      "metadata": {
        "id": "6t_nw_2ufIZ8"
      }
    },
    {
      "cell_type": "code",
      "execution_count": 140,
      "metadata": {
        "colab": {
          "base_uri": "https://localhost:8080/",
          "height": 226
        },
        "collapsed": true,
        "id": "ZyQPUXIruQ1X",
        "outputId": "523ee34c-8d64-4ed7-f396-f0850d0cb9a5"
      },
      "outputs": [
        {
          "output_type": "execute_result",
          "data": {
            "text/plain": [
              "   Age  Gender  Ethnicity Family_History Radiation_Exposure Iodine_Deficiency  \\\n",
              "0   66    Male  Caucasian             No                Yes                No   \n",
              "1   29    Male   Hispanic             No                Yes                No   \n",
              "2   86    Male  Caucasian             No                 No                No   \n",
              "3   75  Female      Asian             No                 No                No   \n",
              "4   35  Female    African            Yes                Yes                No   \n",
              "\n",
              "  Smoking Obesity Diabetes  TSH_Level  T3_Level  T4_Level  Nodule_Size  \\\n",
              "0      No      No       No       9.37      1.67      6.16         1.08   \n",
              "1      No      No       No       1.83      1.73     10.54         4.05   \n",
              "2      No      No       No       6.26      2.59     10.57         4.61   \n",
              "3      No      No       No       4.10      2.62     11.04         2.46   \n",
              "4      No      No       No       9.10      2.11     10.71         2.11   \n",
              "\n",
              "  Thyroid_Cancer_Risk Diagnosis  \n",
              "0                 Low    Benign  \n",
              "1                 Low    Benign  \n",
              "2                 Low    Benign  \n",
              "3              Medium    Benign  \n",
              "4                High    Benign  "
            ],
            "text/html": [
              "\n",
              "  <div id=\"df-c3df679f-23cd-4be0-8f7d-c28414eeb2a0\" class=\"colab-df-container\">\n",
              "    <div>\n",
              "<style scoped>\n",
              "    .dataframe tbody tr th:only-of-type {\n",
              "        vertical-align: middle;\n",
              "    }\n",
              "\n",
              "    .dataframe tbody tr th {\n",
              "        vertical-align: top;\n",
              "    }\n",
              "\n",
              "    .dataframe thead th {\n",
              "        text-align: right;\n",
              "    }\n",
              "</style>\n",
              "<table border=\"1\" class=\"dataframe\">\n",
              "  <thead>\n",
              "    <tr style=\"text-align: right;\">\n",
              "      <th></th>\n",
              "      <th>Age</th>\n",
              "      <th>Gender</th>\n",
              "      <th>Ethnicity</th>\n",
              "      <th>Family_History</th>\n",
              "      <th>Radiation_Exposure</th>\n",
              "      <th>Iodine_Deficiency</th>\n",
              "      <th>Smoking</th>\n",
              "      <th>Obesity</th>\n",
              "      <th>Diabetes</th>\n",
              "      <th>TSH_Level</th>\n",
              "      <th>T3_Level</th>\n",
              "      <th>T4_Level</th>\n",
              "      <th>Nodule_Size</th>\n",
              "      <th>Thyroid_Cancer_Risk</th>\n",
              "      <th>Diagnosis</th>\n",
              "    </tr>\n",
              "  </thead>\n",
              "  <tbody>\n",
              "    <tr>\n",
              "      <th>0</th>\n",
              "      <td>66</td>\n",
              "      <td>Male</td>\n",
              "      <td>Caucasian</td>\n",
              "      <td>No</td>\n",
              "      <td>Yes</td>\n",
              "      <td>No</td>\n",
              "      <td>No</td>\n",
              "      <td>No</td>\n",
              "      <td>No</td>\n",
              "      <td>9.37</td>\n",
              "      <td>1.67</td>\n",
              "      <td>6.16</td>\n",
              "      <td>1.08</td>\n",
              "      <td>Low</td>\n",
              "      <td>Benign</td>\n",
              "    </tr>\n",
              "    <tr>\n",
              "      <th>1</th>\n",
              "      <td>29</td>\n",
              "      <td>Male</td>\n",
              "      <td>Hispanic</td>\n",
              "      <td>No</td>\n",
              "      <td>Yes</td>\n",
              "      <td>No</td>\n",
              "      <td>No</td>\n",
              "      <td>No</td>\n",
              "      <td>No</td>\n",
              "      <td>1.83</td>\n",
              "      <td>1.73</td>\n",
              "      <td>10.54</td>\n",
              "      <td>4.05</td>\n",
              "      <td>Low</td>\n",
              "      <td>Benign</td>\n",
              "    </tr>\n",
              "    <tr>\n",
              "      <th>2</th>\n",
              "      <td>86</td>\n",
              "      <td>Male</td>\n",
              "      <td>Caucasian</td>\n",
              "      <td>No</td>\n",
              "      <td>No</td>\n",
              "      <td>No</td>\n",
              "      <td>No</td>\n",
              "      <td>No</td>\n",
              "      <td>No</td>\n",
              "      <td>6.26</td>\n",
              "      <td>2.59</td>\n",
              "      <td>10.57</td>\n",
              "      <td>4.61</td>\n",
              "      <td>Low</td>\n",
              "      <td>Benign</td>\n",
              "    </tr>\n",
              "    <tr>\n",
              "      <th>3</th>\n",
              "      <td>75</td>\n",
              "      <td>Female</td>\n",
              "      <td>Asian</td>\n",
              "      <td>No</td>\n",
              "      <td>No</td>\n",
              "      <td>No</td>\n",
              "      <td>No</td>\n",
              "      <td>No</td>\n",
              "      <td>No</td>\n",
              "      <td>4.10</td>\n",
              "      <td>2.62</td>\n",
              "      <td>11.04</td>\n",
              "      <td>2.46</td>\n",
              "      <td>Medium</td>\n",
              "      <td>Benign</td>\n",
              "    </tr>\n",
              "    <tr>\n",
              "      <th>4</th>\n",
              "      <td>35</td>\n",
              "      <td>Female</td>\n",
              "      <td>African</td>\n",
              "      <td>Yes</td>\n",
              "      <td>Yes</td>\n",
              "      <td>No</td>\n",
              "      <td>No</td>\n",
              "      <td>No</td>\n",
              "      <td>No</td>\n",
              "      <td>9.10</td>\n",
              "      <td>2.11</td>\n",
              "      <td>10.71</td>\n",
              "      <td>2.11</td>\n",
              "      <td>High</td>\n",
              "      <td>Benign</td>\n",
              "    </tr>\n",
              "  </tbody>\n",
              "</table>\n",
              "</div>\n",
              "    <div class=\"colab-df-buttons\">\n",
              "\n",
              "  <div class=\"colab-df-container\">\n",
              "    <button class=\"colab-df-convert\" onclick=\"convertToInteractive('df-c3df679f-23cd-4be0-8f7d-c28414eeb2a0')\"\n",
              "            title=\"Convert this dataframe to an interactive table.\"\n",
              "            style=\"display:none;\">\n",
              "\n",
              "  <svg xmlns=\"http://www.w3.org/2000/svg\" height=\"24px\" viewBox=\"0 -960 960 960\">\n",
              "    <path d=\"M120-120v-720h720v720H120Zm60-500h600v-160H180v160Zm220 220h160v-160H400v160Zm0 220h160v-160H400v160ZM180-400h160v-160H180v160Zm440 0h160v-160H620v160ZM180-180h160v-160H180v160Zm440 0h160v-160H620v160Z\"/>\n",
              "  </svg>\n",
              "    </button>\n",
              "\n",
              "  <style>\n",
              "    .colab-df-container {\n",
              "      display:flex;\n",
              "      gap: 12px;\n",
              "    }\n",
              "\n",
              "    .colab-df-convert {\n",
              "      background-color: #E8F0FE;\n",
              "      border: none;\n",
              "      border-radius: 50%;\n",
              "      cursor: pointer;\n",
              "      display: none;\n",
              "      fill: #1967D2;\n",
              "      height: 32px;\n",
              "      padding: 0 0 0 0;\n",
              "      width: 32px;\n",
              "    }\n",
              "\n",
              "    .colab-df-convert:hover {\n",
              "      background-color: #E2EBFA;\n",
              "      box-shadow: 0px 1px 2px rgba(60, 64, 67, 0.3), 0px 1px 3px 1px rgba(60, 64, 67, 0.15);\n",
              "      fill: #174EA6;\n",
              "    }\n",
              "\n",
              "    .colab-df-buttons div {\n",
              "      margin-bottom: 4px;\n",
              "    }\n",
              "\n",
              "    [theme=dark] .colab-df-convert {\n",
              "      background-color: #3B4455;\n",
              "      fill: #D2E3FC;\n",
              "    }\n",
              "\n",
              "    [theme=dark] .colab-df-convert:hover {\n",
              "      background-color: #434B5C;\n",
              "      box-shadow: 0px 1px 3px 1px rgba(0, 0, 0, 0.15);\n",
              "      filter: drop-shadow(0px 1px 2px rgba(0, 0, 0, 0.3));\n",
              "      fill: #FFFFFF;\n",
              "    }\n",
              "  </style>\n",
              "\n",
              "    <script>\n",
              "      const buttonEl =\n",
              "        document.querySelector('#df-c3df679f-23cd-4be0-8f7d-c28414eeb2a0 button.colab-df-convert');\n",
              "      buttonEl.style.display =\n",
              "        google.colab.kernel.accessAllowed ? 'block' : 'none';\n",
              "\n",
              "      async function convertToInteractive(key) {\n",
              "        const element = document.querySelector('#df-c3df679f-23cd-4be0-8f7d-c28414eeb2a0');\n",
              "        const dataTable =\n",
              "          await google.colab.kernel.invokeFunction('convertToInteractive',\n",
              "                                                    [key], {});\n",
              "        if (!dataTable) return;\n",
              "\n",
              "        const docLinkHtml = 'Like what you see? Visit the ' +\n",
              "          '<a target=\"_blank\" href=https://colab.research.google.com/notebooks/data_table.ipynb>data table notebook</a>'\n",
              "          + ' to learn more about interactive tables.';\n",
              "        element.innerHTML = '';\n",
              "        dataTable['output_type'] = 'display_data';\n",
              "        await google.colab.output.renderOutput(dataTable, element);\n",
              "        const docLink = document.createElement('div');\n",
              "        docLink.innerHTML = docLinkHtml;\n",
              "        element.appendChild(docLink);\n",
              "      }\n",
              "    </script>\n",
              "  </div>\n",
              "\n",
              "\n",
              "<div id=\"df-b3cc48f5-2cbd-4831-aa0e-234db35b06b8\">\n",
              "  <button class=\"colab-df-quickchart\" onclick=\"quickchart('df-b3cc48f5-2cbd-4831-aa0e-234db35b06b8')\"\n",
              "            title=\"Suggest charts\"\n",
              "            style=\"display:none;\">\n",
              "\n",
              "<svg xmlns=\"http://www.w3.org/2000/svg\" height=\"24px\"viewBox=\"0 0 24 24\"\n",
              "     width=\"24px\">\n",
              "    <g>\n",
              "        <path d=\"M19 3H5c-1.1 0-2 .9-2 2v14c0 1.1.9 2 2 2h14c1.1 0 2-.9 2-2V5c0-1.1-.9-2-2-2zM9 17H7v-7h2v7zm4 0h-2V7h2v10zm4 0h-2v-4h2v4z\"/>\n",
              "    </g>\n",
              "</svg>\n",
              "  </button>\n",
              "\n",
              "<style>\n",
              "  .colab-df-quickchart {\n",
              "      --bg-color: #E8F0FE;\n",
              "      --fill-color: #1967D2;\n",
              "      --hover-bg-color: #E2EBFA;\n",
              "      --hover-fill-color: #174EA6;\n",
              "      --disabled-fill-color: #AAA;\n",
              "      --disabled-bg-color: #DDD;\n",
              "  }\n",
              "\n",
              "  [theme=dark] .colab-df-quickchart {\n",
              "      --bg-color: #3B4455;\n",
              "      --fill-color: #D2E3FC;\n",
              "      --hover-bg-color: #434B5C;\n",
              "      --hover-fill-color: #FFFFFF;\n",
              "      --disabled-bg-color: #3B4455;\n",
              "      --disabled-fill-color: #666;\n",
              "  }\n",
              "\n",
              "  .colab-df-quickchart {\n",
              "    background-color: var(--bg-color);\n",
              "    border: none;\n",
              "    border-radius: 50%;\n",
              "    cursor: pointer;\n",
              "    display: none;\n",
              "    fill: var(--fill-color);\n",
              "    height: 32px;\n",
              "    padding: 0;\n",
              "    width: 32px;\n",
              "  }\n",
              "\n",
              "  .colab-df-quickchart:hover {\n",
              "    background-color: var(--hover-bg-color);\n",
              "    box-shadow: 0 1px 2px rgba(60, 64, 67, 0.3), 0 1px 3px 1px rgba(60, 64, 67, 0.15);\n",
              "    fill: var(--button-hover-fill-color);\n",
              "  }\n",
              "\n",
              "  .colab-df-quickchart-complete:disabled,\n",
              "  .colab-df-quickchart-complete:disabled:hover {\n",
              "    background-color: var(--disabled-bg-color);\n",
              "    fill: var(--disabled-fill-color);\n",
              "    box-shadow: none;\n",
              "  }\n",
              "\n",
              "  .colab-df-spinner {\n",
              "    border: 2px solid var(--fill-color);\n",
              "    border-color: transparent;\n",
              "    border-bottom-color: var(--fill-color);\n",
              "    animation:\n",
              "      spin 1s steps(1) infinite;\n",
              "  }\n",
              "\n",
              "  @keyframes spin {\n",
              "    0% {\n",
              "      border-color: transparent;\n",
              "      border-bottom-color: var(--fill-color);\n",
              "      border-left-color: var(--fill-color);\n",
              "    }\n",
              "    20% {\n",
              "      border-color: transparent;\n",
              "      border-left-color: var(--fill-color);\n",
              "      border-top-color: var(--fill-color);\n",
              "    }\n",
              "    30% {\n",
              "      border-color: transparent;\n",
              "      border-left-color: var(--fill-color);\n",
              "      border-top-color: var(--fill-color);\n",
              "      border-right-color: var(--fill-color);\n",
              "    }\n",
              "    40% {\n",
              "      border-color: transparent;\n",
              "      border-right-color: var(--fill-color);\n",
              "      border-top-color: var(--fill-color);\n",
              "    }\n",
              "    60% {\n",
              "      border-color: transparent;\n",
              "      border-right-color: var(--fill-color);\n",
              "    }\n",
              "    80% {\n",
              "      border-color: transparent;\n",
              "      border-right-color: var(--fill-color);\n",
              "      border-bottom-color: var(--fill-color);\n",
              "    }\n",
              "    90% {\n",
              "      border-color: transparent;\n",
              "      border-bottom-color: var(--fill-color);\n",
              "    }\n",
              "  }\n",
              "</style>\n",
              "\n",
              "  <script>\n",
              "    async function quickchart(key) {\n",
              "      const quickchartButtonEl =\n",
              "        document.querySelector('#' + key + ' button');\n",
              "      quickchartButtonEl.disabled = true;  // To prevent multiple clicks.\n",
              "      quickchartButtonEl.classList.add('colab-df-spinner');\n",
              "      try {\n",
              "        const charts = await google.colab.kernel.invokeFunction(\n",
              "            'suggestCharts', [key], {});\n",
              "      } catch (error) {\n",
              "        console.error('Error during call to suggestCharts:', error);\n",
              "      }\n",
              "      quickchartButtonEl.classList.remove('colab-df-spinner');\n",
              "      quickchartButtonEl.classList.add('colab-df-quickchart-complete');\n",
              "    }\n",
              "    (() => {\n",
              "      let quickchartButtonEl =\n",
              "        document.querySelector('#df-b3cc48f5-2cbd-4831-aa0e-234db35b06b8 button');\n",
              "      quickchartButtonEl.style.display =\n",
              "        google.colab.kernel.accessAllowed ? 'block' : 'none';\n",
              "    })();\n",
              "  </script>\n",
              "</div>\n",
              "\n",
              "    </div>\n",
              "  </div>\n"
            ],
            "application/vnd.google.colaboratory.intrinsic+json": {
              "type": "dataframe",
              "variable_name": "df"
            }
          },
          "metadata": {},
          "execution_count": 140
        }
      ],
      "source": [
        "data=pd.read_csv('/content/thyroid_cancer_risk_data.csv')\n",
        "data.drop(['Patient_ID','Country'] ,axis=1,inplace=True)\n",
        "df=pd.DataFrame(data)\n",
        "df.head()"
      ]
    },
    {
      "cell_type": "markdown",
      "source": [
        "Filling missing values in data columns using sklearn"
      ],
      "metadata": {
        "id": "9IoqG6zthoeA"
      }
    },
    {
      "cell_type": "code",
      "source": [
        "for col in df.columns:\n",
        " # df[col]=df[col].fillna(df[col].mode())\n",
        "  from sklearn.impute import SimpleImputer\n",
        "  s=SimpleImputer(missing_values=np.nan,strategy='most_frequent')\n",
        "  df[col]=s.fit_transform(df[[col]]).flatten()"
      ],
      "metadata": {
        "collapsed": true,
        "id": "dx9VYK0vf9U0"
      },
      "execution_count": 141,
      "outputs": []
    },
    {
      "cell_type": "markdown",
      "source": [
        "Converting object data type into category dtype  for better efficiency and operation."
      ],
      "metadata": {
        "id": "k_NS1A5LloDI"
      }
    },
    {
      "cell_type": "code",
      "source": [
        "for col in df.select_dtypes(include=['object']).columns:\n",
        "    df[col] = df[col].astype('category')"
      ],
      "metadata": {
        "id": "BFX6M5L7ipFJ"
      },
      "execution_count": 142,
      "outputs": []
    },
    {
      "cell_type": "markdown",
      "source": [
        "using ordinal encoding because of it has more than 2 category"
      ],
      "metadata": {
        "id": "mc6UTUUOrJNA"
      }
    },
    {
      "cell_type": "code",
      "source": [
        "from sklearn.preprocessing import OrdinalEncoder\n",
        "encoder = OrdinalEncoder()\n",
        "df[\"Ethnicity\"] = encoder.fit_transform(df[[\"Ethnicity\"]])"
      ],
      "metadata": {
        "id": "Ur_kadvOl98M"
      },
      "execution_count": 143,
      "outputs": []
    },
    {
      "cell_type": "markdown",
      "source": [
        "Here, i used labelencoder bcauz it has 2 option value category"
      ],
      "metadata": {
        "id": "orWjr8m4tkF2"
      }
    },
    {
      "cell_type": "code",
      "source": [
        "from sklearn.preprocessing import LabelEncoder\n",
        "le=LabelEncoder()\n",
        "for col in df.select_dtypes(include=['category']).columns:\n",
        "    df[col] = le.fit_transform(df[col])"
      ],
      "metadata": {
        "id": "X9ffDQ-gqxtw"
      },
      "execution_count": 144,
      "outputs": []
    },
    {
      "cell_type": "markdown",
      "source": [
        "Data Analysis by  using tool ydata profiling ref: [](https://)https://docs.profiling.ydata.ai/latest/"
      ],
      "metadata": {
        "id": "T_Ogj9EXyJpl"
      }
    },
    {
      "cell_type": "code",
      "source": [
        "from ydata_profiling import ProfileReport\n",
        "prof=ProfileReport(df)\n",
        "prof.to_file(output_file ='output.html')"
      ],
      "metadata": {
        "id": "Zcm37XjQwND6"
      },
      "execution_count": null,
      "outputs": []
    },
    {
      "cell_type": "markdown",
      "source": [
        "Train test split"
      ],
      "metadata": {
        "id": "lMRmDJqP44E6"
      }
    },
    {
      "cell_type": "code",
      "source": [
        "from sklearn.model_selection import train_test_split\n",
        "X = df.drop(columns=[\"Thyroid_Cancer_Risk\", \"Diagnosis\"])  # Features\n",
        "y = df[[\"Thyroid_Cancer_Risk\", \"Diagnosis\"]]\n",
        "X_train,x_test,y_train,y_test=train_test_split(X,y,test_size=0.3,random_state=5)"
      ],
      "metadata": {
        "id": "L-FuXara4aHZ"
      },
      "execution_count": 154,
      "outputs": []
    },
    {
      "cell_type": "markdown",
      "source": [
        "Scalling the data for equal magnitutude"
      ],
      "metadata": {
        "id": "0GAiklRND82d"
      }
    },
    {
      "cell_type": "code",
      "source": [
        "from sklearn.preprocessing import StandardScaler\n",
        "sc=StandardScaler()\n",
        "X_train=sc.fit_transform(X_train)\n",
        "x_test=sc.fit_transform(x_test)"
      ],
      "metadata": {
        "id": "RcGNT2Nu4rh1"
      },
      "execution_count": 156,
      "outputs": []
    },
    {
      "cell_type": "markdown",
      "source": [
        "using multioutputclass bcuauz the model has two targrt value\n",
        "and the XCB algo"
      ],
      "metadata": {
        "id": "UMlde2DeEF58"
      }
    },
    {
      "cell_type": "code",
      "source": [
        "from sklearn.multioutput import MultiOutputClassifier\n",
        "from xgboost import XGBClassifier\n",
        "model=MultiOutputClassifier(XGBClassifier())\n",
        "model.fit(X_train,y_train)\n",
        "y_pred=model.predict(x_test)"
      ],
      "metadata": {
        "id": "l1LFayAX50O2"
      },
      "execution_count": 178,
      "outputs": []
    },
    {
      "cell_type": "markdown",
      "source": [
        "Evalution and testing here we can check f1_score as well but the model has 2 target value so i used Classification report"
      ],
      "metadata": {
        "id": "GeYlCqHeEcpE"
      }
    },
    {
      "cell_type": "code",
      "source": [
        "from sklearn.metrics import accuracy_score, classification_report\n",
        "\n",
        "# Make predictions\n",
        "y_pred = model.predict(x_test)\n",
        "\n",
        "# Convert predictions into DataFrame (same columns as y_test)\n",
        "y_pred_df = pd.DataFrame(y_pred, columns=y_test.columns)\n",
        "\n",
        "# Accuracy for each target variable\n",
        "accuracy_risk = accuracy_score(y_test[\"Thyroid_Cancer_Risk\"], y_pred_df[\"Thyroid_Cancer_Risk\"])\n",
        "accuracy_diagnosis = accuracy_score(y_test[\"Diagnosis\"], y_pred_df[\"Diagnosis\"])\n",
        "\n",
        "# Classification reports\n",
        "report_risk = classification_report(y_test[\"Thyroid_Cancer_Risk\"], y_pred_df[\"Thyroid_Cancer_Risk\"])\n",
        "report_diagnosis = classification_report(y_test[\"Diagnosis\"], y_pred_df[\"Diagnosis\"])\n",
        "\n",
        "# Print results\n",
        "print(\"Accuracy (Thyroid Cancer Risk):\", accuracy_risk)\n",
        "print(\"Classification Report (Thyroid Cancer Risk):\\n\", report_risk)\n",
        "\n",
        "print(\"\\nAccuracy (Diagnosis):\", accuracy_diagnosis)\n",
        "print(\"Classification Report (Diagnosis):\\n\", report_diagnosis)"
      ],
      "metadata": {
        "id": "_F5pLCNs_jFx"
      },
      "execution_count": null,
      "outputs": []
    },
    {
      "cell_type": "markdown",
      "source": [
        "conclusion:\n",
        "apperanty the model has avg confidence score but later i will try to increase it's Accuracy (Thyroid Cancer Risk): 0.5755704613841525\n",
        "Classification Report (Thyroid Cancer Risk):\n",
        "               precision    recall  f1-score   support\n",
        "\n",
        "           0       0.98      0.51      0.67      9580\n",
        "           1       0.55      0.96      0.70     32356\n",
        "           2       0.36      0.04      0.07     21872\n",
        "\n",
        "    accuracy                           0.58     63808\n",
        "   macro avg       0.63      0.50      0.48     63808\n",
        "weighted avg       0.55      0.58      0.48     63808\n",
        "\n",
        "\n",
        "Accuracy (Diagnosis): 0.7974705366098295\n",
        "Classification Report (Diagnosis):\n",
        "               precision    recall  f1-score   support\n",
        "\n",
        "           0       0.81      0.97      0.88     49020\n",
        "           1       0.69      0.23      0.34     14788\n",
        "\n",
        "    accuracy                           0.80     63808\n",
        "   macro avg       0.75      0.60      0.61     63808\n",
        "weighted avg       0.78      0.80      0.76     63808"
      ],
      "metadata": {
        "id": "fwgQok8hEzBk"
      }
    }
  ],
  "metadata": {
    "colab": {
      "provenance": []
    },
    "kernelspec": {
      "display_name": "Python 3",
      "name": "python3"
    },
    "language_info": {
      "name": "python"
    }
  },
  "nbformat": 4,
  "nbformat_minor": 0
}
